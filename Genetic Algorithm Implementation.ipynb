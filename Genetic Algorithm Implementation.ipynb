{
  "cells": [
    {
      "cell_type": "code",
      "execution_count": 1,
      "metadata": {
        "id": "Aibb7UCoP5FW"
      },
      "outputs": [],
      "source": [
        "import random\n",
        "import math"
      ]
    },
    {
      "cell_type": "code",
      "execution_count": 2,
      "metadata": {
        "id": "5eqIrHZfP7gL"
      },
      "outputs": [],
      "source": [
        "# Parameters\n",
        "popn_size = 5\n",
        "mut_rate = 0.1\n",
        "gen = 5\n",
        "length_integer = 3\n",
        "length_fraction = 4\n",
        "length_total = length_integer + length_fraction"
      ]
    },
    {
      "cell_type": "code",
      "execution_count": 3,
      "metadata": {
        "id": "ORnEp8XQQfz4"
      },
      "outputs": [],
      "source": [
        "# Fitness Function\n",
        "def fitness_function(x):\n",
        "    return abs(4*x**2 - 9)\n"
      ]
    },
    {
      "cell_type": "code",
      "execution_count": 4,
      "metadata": {
        "id": "JuN9RlFyi-ey"
      },
      "outputs": [],
      "source": [
        "# Binary Encoding\n",
        "def encode(x):\n",
        "    integer_part = int(x)\n",
        "    fractional_part = abs(x - integer_part)\n",
        "    integer_bin = format(integer_part & ((1 << length_integer) - 1), f'0{length_integer}b')\n",
        "    fractional_bin = ''.join(str(int(fractional_part * 2**i) % 2) for i in range(1, length_fraction + 1))\n",
        "    return integer_bin + fractional_bin"
      ]
    },
    {
      "cell_type": "code",
      "execution_count": 5,
      "metadata": {
        "id": "8M8luESdjEe4"
      },
      "outputs": [],
      "source": [
        "def decode(b):\n",
        "    integer_part = int(b[:length_integer], 2)\n",
        "    fractional_part = sum(int(bit) * 2**-i for i, bit in enumerate(b[length_integer:], 1))\n",
        "    return integer_part + fractional_part\n"
      ]
    },
    {
      "cell_type": "code",
      "execution_count": 6,
      "metadata": {
        "id": "r2TxW81SjsGC"
      },
      "outputs": [],
      "source": [
        "# Initial Population\n",
        "init_population = [encode(random.uniform(-5, 5)) for _ in range(popn_size)]\n"
      ]
    },
    {
      "cell_type": "code",
      "execution_count": 7,
      "metadata": {
        "id": "VhZYswDxjw40"
      },
      "outputs": [],
      "source": [
        "# Selection\n",
        "def roulette_wheel_selection(population, fitness_values):\n",
        "    total_fitness = sum(fitness_values)\n",
        "    probabilities = [fitness / total_fitness for fitness in fitness_values]\n",
        "    pointer = random.random()\n",
        "    cumulative_prob = 0\n",
        "    for i, prob in enumerate(probabilities):\n",
        "        cumulative_prob += prob\n",
        "        if pointer <= cumulative_prob:\n",
        "            return population[i]"
      ]
    },
    {
      "cell_type": "code",
      "execution_count": 8,
      "metadata": {
        "colab": {
          "base_uri": "https://localhost:8080/"
        },
        "id": "8gH1hjZIQgk6",
        "outputId": "e08bac45-6f9d-4dca-d689-c6b3cc391cfb"
      },
      "outputs": [],
      "source": [
        "# Uniform Crossover\n",
        "def uniform_crossover(parent1, parent2):\n",
        "    child1 = ''.join(random.choice([p1, p2]) for p1, p2 in zip(parent1, parent2))\n",
        "    child2 = ''.join(random.choice([p1, p2]) for p1, p2 in zip(parent1, parent2))\n",
        "    return child1, child2\n"
      ]
    },
    {
      "cell_type": "code",
      "execution_count": 9,
      "metadata": {
        "id": "SRkRxdjXifK_"
      },
      "outputs": [],
      "source": [
        "# Mutation\n",
        "def mutate(individual):\n",
        "    individual = list(individual)\n",
        "    for i in range(len(individual)):\n",
        "        if random.random() < mut_rate:\n",
        "            individual[i] = '1' if individual[i] == '0' else '0'\n",
        "    return ''.join(individual)\n"
      ]
    },
    {
      "cell_type": "code",
      "execution_count": 14,
      "metadata": {},
      "outputs": [
        {
          "name": "stdout",
          "output_type": "stream",
          "text": [
            "Best solution found: x = 3.9375, Root/Fitness = 53.015625\n"
          ]
        }
      ],
      "source": [
        "# Genetic Algorithm\n",
        "def genetic_algorithm(init_population):\n",
        "    population = init_population\n",
        "\n",
        "    for generation in range(gen):\n",
        "        fitness_values = [fitness_function(decode(x)) for x in population]\n",
        "\n",
        "        parent1 = roulette_wheel_selection(population, fitness_values)\n",
        "        parent2 = roulette_wheel_selection(population, fitness_values)\n",
        "\n",
        "        child1, child2 = uniform_crossover(parent1, parent2)\n",
        "\n",
        "        child1 = mutate(child1)\n",
        "        child2 = mutate(child2)\n",
        "\n",
        "        population.sort(key=lambda x: fitness_function(decode(x)), reverse=True)\n",
        "        population[-2] = child1\n",
        "        population[-1] = child2\n",
        "\n",
        "    best_individual = min(population, key=lambda x: fitness_function(decode(x)))\n",
        "    return best_individual\n",
        "\n",
        "best_solution = genetic_algorithm(init_population)\n",
        "decoded_solution = decode(best_solution)\n",
        "print(f\"Best solution found: x = {decoded_solution}, Root/Fitness = {fitness_function(decoded_solution)}\")"
      ]
    },
    {
      "cell_type": "code",
      "execution_count": null,
      "metadata": {},
      "outputs": [],
      "source": []
    }
  ],
  "metadata": {
    "colab": {
      "provenance": []
    },
    "kernelspec": {
      "display_name": "Python 3",
      "name": "python3"
    },
    "language_info": {
      "codemirror_mode": {
        "name": "ipython",
        "version": 3
      },
      "file_extension": ".py",
      "mimetype": "text/x-python",
      "name": "python",
      "nbconvert_exporter": "python",
      "pygments_lexer": "ipython3",
      "version": "3.10.6"
    }
  },
  "nbformat": 4,
  "nbformat_minor": 0
}
